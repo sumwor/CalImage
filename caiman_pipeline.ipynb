{
 "cells": [
  {
   "cell_type": "code",
   "execution_count": 4,
   "metadata": {
    "collapsed": true
   },
   "outputs": [
    {
     "name": "stdout",
     "output_type": "stream",
     "text": [
      "The autoreload extension is already loaded. To reload it, use:\n",
      "  %reload_ext autoreload\n"
     ]
    },
    {
     "name": "stderr",
     "output_type": "stream",
     "text": [
      "C:\\Users\\linda\\AppData\\Local\\Temp\\ipykernel_11196\\3784775414.py:20: DeprecationWarning: `magic(...)` is deprecated since IPython 0.13 (warning added in 8.1), use run_line_magic(magic_name, parameter_s).\n",
      "  get_ipython().magic('load_ext autoreload')\n",
      "C:\\Users\\linda\\AppData\\Local\\Temp\\ipykernel_11196\\3784775414.py:21: DeprecationWarning: `magic(...)` is deprecated since IPython 0.13 (warning added in 8.1), use run_line_magic(magic_name, parameter_s).\n",
      "  get_ipython().magic('autoreload 2')\n"
     ]
    }
   ],
   "source": [
    "from builtins import zip\n",
    "from builtins import str\n",
    "from builtins import map\n",
    "from builtins import range\n",
    "from past.utils import old_div\n",
    "\n",
    "import cv2\n",
    "import matplotlib.pyplot as plt\n",
    "import numpy as np\n",
    "import os.path\n",
    "import logging\n",
    "\n",
    "try:\n",
    "    cv2.setNumThreads(0)\n",
    "except:\n",
    "    pass\n",
    "\n",
    "try:\n",
    "    if __IPYTHON__:\n",
    "        get_ipython().magic('load_ext autoreload')\n",
    "        get_ipython().magic('autoreload 2')\n",
    "except NameError:\n",
    "    pass\n",
    "\n",
    "logging.basicConfig(format=\n",
    "                          \"%(relativeCreated)12d [%(filename)s:%(funcName)20s():%(lineno)s] [%(process)d] %(message)s\",\n",
    "                    # filename=\"/tmp/caiman.log\",\n",
    "                    level=logging.DEBUG)\n",
    "\n",
    "import caiman as cm\n",
    "from caiman.motion_correction import MotionCorrect, tile_and_correct, motion_correction_piecewise\n",
    "\n",
    "from caiman_process import *\n",
    "from data_proc import *\n",
    "from gui import *\n",
    "from folder_scan import *\n",
    "from itertools import product\n",
    "import os\n",
    "import time"
   ]
  },
  {
   "cell_type": "code",
   "execution_count": 6,
   "outputs": [],
   "source": [
    "root_input_folder = r'X:\\HongliWang\\Madeline\\raw_imaging'\n",
    "root_output_folder = r'X:\\HongliWang\\Madeline\\processed_imaging'\n",
    "input_sub = 'ADT008'\n",
    "\n",
    "dataPath = os.listdir(os.path.join(root_input_folder, input_sub))\n",
    "# get rid of single imaging directories\n",
    "dataFolder = [x for x in dataPath if input_sub in x]\n",
    "# get all input folders\n",
    "output_path = os.path.join(root_output_folder, input_sub)\n",
    "if not os.path.exists(output_path):\n",
    "    os.mkdir(output_path)\n",
    "# iterate through all data folder to preprocess data\n",
    "\n",
    "for folder in dataFolder:\n",
    "    output_folder = os.path.join(output_path, folder)\n",
    "\n",
    "    if not os.path.exists(output_folder):\n",
    "        os.mkdir(output_folder)"
   ],
   "metadata": {
    "collapsed": false
   }
  },
  {
   "cell_type": "markdown",
   "source": [
    "\n",
    "    CaImAn Parameters:\n",
    "    ===============================================================================\n",
    "    => All possible outputs will be produced\n",
    "    fr: framerate\n",
    "    K: number of components per patch\n",
    "    rf: half-size of the patches in pixels. e.g., if rf=25, patches are 50x50\n",
    "    stride_cnmf: amount of overlap between the patches in pixels\n",
    "    gnb: number of global background components"
   ],
   "metadata": {
    "collapsed": false
   }
  },
  {
   "cell_type": "code",
   "execution_count": 5,
   "outputs": [],
   "source": [
    "    fr = 10.055\n",
    "    param_names = ['K', 'rf', 'stride_cnmf', 'gnb']\n",
    "    params = [\n",
    "        [10, 15],  # K\n",
    "        [20, 25, 30],  # rf\n",
    "        [8, 10, 12],  # stride_cnmf\n",
    "        # [1, 2, 3],  # gnb\n",
    "    ]\n",
    "\n",
    "    # create pandas dataframe from caiman parameters\n",
    "    param_configs = list(product(*params))\n"
   ],
   "metadata": {
    "collapsed": false
   }
  },
  {
   "cell_type": "code",
   "execution_count": 9,
   "outputs": [
    {
     "ename": "TypeError",
     "evalue": "'set' object is not subscriptable",
     "output_type": "error",
     "traceback": [
      "\u001B[1;31m---------------------------------------------------------------------------\u001B[0m",
      "\u001B[1;31mTypeError\u001B[0m                                 Traceback (most recent call last)",
      "Cell \u001B[1;32mIn[9], line 2\u001B[0m\n\u001B[0;32m      1\u001B[0m input_folders \u001B[38;5;241m=\u001B[39m scan_folder(root_input_folder)\n\u001B[1;32m----> 2\u001B[0m input_folder \u001B[38;5;241m=\u001B[39m os\u001B[38;5;241m.\u001B[39mpath\u001B[38;5;241m.\u001B[39mjoin(root_input_folder, input_sub, \u001B[43minput_folders\u001B[49m\u001B[43m[\u001B[49m\u001B[38;5;241;43m0\u001B[39;49m\u001B[43m]\u001B[49m)\n\u001B[0;32m      4\u001B[0m \u001B[38;5;28mprint\u001B[39m(\u001B[38;5;124mf\u001B[39m\u001B[38;5;124m'\u001B[39m\u001B[38;5;124m--BEGINNING PROCESSING OF INPUT FOLDER: \u001B[39m\u001B[38;5;132;01m{\u001B[39;00minput_folder\u001B[38;5;132;01m}\u001B[39;00m\u001B[38;5;124m--\u001B[39m\u001B[38;5;124m'\u001B[39m)\n",
      "\u001B[1;31mTypeError\u001B[0m: 'set' object is not subscriptable"
     ]
    }
   ],
   "source": [
    "input_folders = scan_folder(root_input_folder)\n",
    "input_folder = os.path.join(root_input_folder, input_sub, input_folders[0])\n",
    "\n",
    "print(f'--BEGINNING PROCESSING OF INPUT FOLDER: {input_folder}--')"
   ],
   "metadata": {
    "collapsed": false
   }
  },
  {
   "cell_type": "code",
   "execution_count": 8,
   "outputs": [
    {
     "ename": "TypeError",
     "evalue": "'set' object is not subscriptable",
     "output_type": "error",
     "traceback": [
      "\u001B[1;31m---------------------------------------------------------------------------\u001B[0m",
      "\u001B[1;31mTypeError\u001B[0m                                 Traceback (most recent call last)",
      "Cell \u001B[1;32mIn[8], line 2\u001B[0m\n\u001B[0;32m      1\u001B[0m input_folders \u001B[38;5;241m=\u001B[39m scan_folder(root_input_folder)\n\u001B[1;32m----> 2\u001B[0m input_folder \u001B[38;5;241m=\u001B[39m os\u001B[38;5;241m.\u001B[39mpath\u001B[38;5;241m.\u001B[39mjoin(root_input_folder, input_sub, \u001B[43minput_folders\u001B[49m\u001B[43m[\u001B[49m\u001B[38;5;241;43m0\u001B[39;49m\u001B[43m]\u001B[49m)\n\u001B[0;32m      4\u001B[0m \u001B[38;5;28mprint\u001B[39m(\u001B[38;5;124mf\u001B[39m\u001B[38;5;124m'\u001B[39m\u001B[38;5;124m--BEGINNING PROCESSING OF INPUT FOLDER: \u001B[39m\u001B[38;5;132;01m{\u001B[39;00minput_folder\u001B[38;5;132;01m}\u001B[39;00m\u001B[38;5;124m--\u001B[39m\u001B[38;5;124m'\u001B[39m)\n\u001B[0;32m      6\u001B[0m     \u001B[38;5;66;03m# merge tif files\u001B[39;00m\n",
      "\u001B[1;31mTypeError\u001B[0m: 'set' object is not subscriptable"
     ]
    }
   ],
   "source": [
    "\n",
    "            # merge tif files\n",
    "        tif_name = os.path.basename(input_folder)+'_merge0.tif'\n",
    "        merged_tif = os.path.join(output_folder, tif_name)\n",
    "        if os.path.exists(merged_tif):\n",
    "            print('--merged tiff file already found! skipping merge')\n",
    "        else:\n",
    "            print('--begin merging tiff files--')\n",
    "            merge_files = [os.path.join(input_folder, f) for f in os.listdir(input_folder) if ('.tif' in f)]\n",
    "            # sort merge_files by file name\n",
    "            merge_files = sorted(merge_files, key=lambda x: int(os.path.splitext(os.path.basename(x))[0][-6:]))\n",
    "                # a function to\n",
    "            outfile = merge_tiffs(merge_files, output_folder, tifn=tif_name)\n",
    "            print('--tiff files merged--')\n",
    "\n",
    "                # clean mmap files\n",
    "                # something wrong with this code\n",
    "            for f in os.listdir(output_folder):\n",
    "                if f.endswith('.mmap'):\n",
    "                    os.remove(os.path.join(output_folder, f))\n",
    "\n",
    "\n",
    "                # ensure merged tif file exists\n",
    "            merged_tif = outfile[0]\n",
    "            while not os.path.exists(merged_tif):\n",
    "                time.sleep(1)\n",
    "            print('--found merged tif file--')"
   ],
   "metadata": {
    "collapsed": false
   }
  },
  {
   "cell_type": "code",
   "execution_count": null,
   "outputs": [],
   "source": [],
   "metadata": {
    "collapsed": false
   }
  }
 ],
 "metadata": {
  "kernelspec": {
   "display_name": "Python 3",
   "language": "python",
   "name": "python3"
  },
  "language_info": {
   "codemirror_mode": {
    "name": "ipython",
    "version": 2
   },
   "file_extension": ".py",
   "mimetype": "text/x-python",
   "name": "python",
   "nbconvert_exporter": "python",
   "pygments_lexer": "ipython2",
   "version": "2.7.6"
  }
 },
 "nbformat": 4,
 "nbformat_minor": 0
}
